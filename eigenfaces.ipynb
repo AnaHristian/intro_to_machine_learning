{
  "nbformat": 4,
  "nbformat_minor": 0,
  "metadata": {
    "colab": {
      "name": "eigenfaces.ipynb",
      "version": "0.3.2",
      "provenance": [],
      "include_colab_link": true
    },
    "kernelspec": {
      "name": "python3",
      "display_name": "Python 3"
    },
    "accelerator": "GPU"
  },
  "cells": [
    {
      "cell_type": "markdown",
      "metadata": {
        "id": "view-in-github",
        "colab_type": "text"
      },
      "source": [
        "<a href=\"https://colab.research.google.com/github/AnaHristian/intro_to_machine_learning/blob/master/eigenfaces.ipynb\" target=\"_parent\"><img src=\"https://colab.research.google.com/assets/colab-badge.svg\" alt=\"Open In Colab\"/></a>"
      ]
    },
    {
      "metadata": {
        "id": "uuNpz2jzFEPF",
        "colab_type": "text"
      },
      "cell_type": "markdown",
      "source": [
        "## [Faces recognition example using eigenfaces and SVMs](https://scikit-learn.org/stable/auto_examples/applications/plot_face_recognition.html)"
      ]
    },
    {
      "metadata": {
        "id": "7h523nSRE27R",
        "colab_type": "code",
        "colab": {}
      },
      "cell_type": "code",
      "source": [
        "import tarfile\n",
        "from time import time\n",
        "import logging\n",
        "import pylab as pl\n",
        "import numpy as np\n",
        "\n",
        "from sklearn.model_selection import train_test_split, GridSearchCV\n",
        "from sklearn.datasets import fetch_lfw_people\n",
        "from sklearn.metrics import classification_report\n",
        "from sklearn.metrics import confusion_matrix\n",
        "from sklearn.decomposition import PCA as RandomizedPCA\n",
        "from sklearn.svm import SVC"
      ],
      "execution_count": 0,
      "outputs": []
    },
    {
      "metadata": {
        "id": "e_FPKAyTEN_2",
        "colab_type": "code",
        "colab": {
          "base_uri": "https://localhost:8080/",
          "height": 210
        },
        "outputId": "71d808b5-b729-4c2e-8a23-e38eb06b8cd2"
      },
      "cell_type": "code",
      "source": [
        "!wget http://vis-www.cs.umass.edu/lfw/lfw-funneled.tgz "
      ],
      "execution_count": 2,
      "outputs": [
        {
          "output_type": "stream",
          "text": [
            "--2019-03-26 12:55:57--  http://vis-www.cs.umass.edu/lfw/lfw-funneled.tgz\n",
            "Resolving vis-www.cs.umass.edu (vis-www.cs.umass.edu)... 128.119.244.95\n",
            "Connecting to vis-www.cs.umass.edu (vis-www.cs.umass.edu)|128.119.244.95|:80... connected.\n",
            "HTTP request sent, awaiting response... 200 OK\n",
            "Length: 243346528 (232M) [application/x-gzip]\n",
            "Saving to: ‘lfw-funneled.tgz’\n",
            "\n",
            "lfw-funneled.tgz    100%[===================>] 232.07M  78.8MB/s    in 2.9s    \n",
            "\n",
            "2019-03-26 12:56:05 (78.8 MB/s) - ‘lfw-funneled.tgz’ saved [243346528/243346528]\n",
            "\n"
          ],
          "name": "stdout"
        }
      ]
    },
    {
      "metadata": {
        "id": "qBtPDcRuEkto",
        "colab_type": "code",
        "colab": {
          "base_uri": "https://localhost:8080/",
          "height": 52
        },
        "outputId": "25320762-baf0-47c9-d7c5-04f254b07f2d"
      },
      "cell_type": "code",
      "source": [
        "%%time\n",
        "tfile = tarfile.open(\"lfw-funneled.tgz\", \"r:gz\")\n",
        "tfile.extractall(\".\")"
      ],
      "execution_count": 4,
      "outputs": [
        {
          "output_type": "stream",
          "text": [
            "CPU times: user 5.62 s, sys: 2.4 s, total: 8.02 s\n",
            "Wall time: 8.22 s\n"
          ],
          "name": "stdout"
        }
      ]
    },
    {
      "metadata": {
        "id": "ULJaw1BIE625",
        "colab_type": "code",
        "colab": {}
      },
      "cell_type": "code",
      "source": [
        "# Display progress logs on stdout\n",
        "logging.basicConfig(level=logging.INFO, format='%(asctime)s %(message)s')"
      ],
      "execution_count": 0,
      "outputs": []
    },
    {
      "metadata": {
        "id": "jFcCrwWVFnhZ",
        "colab_type": "code",
        "colab": {
          "base_uri": "https://localhost:8080/",
          "height": 158
        },
        "outputId": "d7696846-c7c6-4464-dbfd-9954d7fbb68e"
      },
      "cell_type": "code",
      "source": [
        "# Download the data, if not already on disk and load it as numpy arrays\n",
        "lfw_people = fetch_lfw_people(min_faces_per_person=70, resize=0.4)"
      ],
      "execution_count": 11,
      "outputs": [
        {
          "output_type": "stream",
          "text": [
            "Downloading LFW metadata: https://ndownloader.figshare.com/files/5976012\n",
            "2019-03-26 13:01:00,575 Downloading LFW metadata: https://ndownloader.figshare.com/files/5976012\n",
            "Downloading LFW metadata: https://ndownloader.figshare.com/files/5976009\n",
            "2019-03-26 13:01:01,577 Downloading LFW metadata: https://ndownloader.figshare.com/files/5976009\n",
            "Downloading LFW metadata: https://ndownloader.figshare.com/files/5976006\n",
            "2019-03-26 13:01:02,496 Downloading LFW metadata: https://ndownloader.figshare.com/files/5976006\n",
            "Downloading LFW data (~200MB): https://ndownloader.figshare.com/files/5976015\n",
            "2019-03-26 13:01:03,614 Downloading LFW data (~200MB): https://ndownloader.figshare.com/files/5976015\n"
          ],
          "name": "stderr"
        }
      ]
    },
    {
      "metadata": {
        "id": "CdF5-eA2Fu33",
        "colab_type": "code",
        "colab": {}
      },
      "cell_type": "code",
      "source": [
        "# introspect the images arrays to find the shapes (for plotting)\n",
        "n_samples, h, w = lfw_people.images.shape\n",
        "np.random.seed(42)"
      ],
      "execution_count": 0,
      "outputs": []
    },
    {
      "metadata": {
        "id": "FdWFxMomF7dI",
        "colab_type": "code",
        "colab": {
          "base_uri": "https://localhost:8080/",
          "height": 34
        },
        "outputId": "141b92ac-aed1-40ee-f390-70bd155b8c14"
      },
      "cell_type": "code",
      "source": [
        "n_samples, h, w"
      ],
      "execution_count": 14,
      "outputs": [
        {
          "output_type": "execute_result",
          "data": {
            "text/plain": [
              "(1288, 50, 37)"
            ]
          },
          "metadata": {
            "tags": []
          },
          "execution_count": 14
        }
      ]
    },
    {
      "metadata": {
        "id": "UlGW8uDAF9WV",
        "colab_type": "code",
        "colab": {}
      },
      "cell_type": "code",
      "source": [
        "# for machine learning we use the data directly (as relative pixel\n",
        "# position info is ignored by this model)\n",
        "X = lfw_people.data\n",
        "n_features = X.shape[1]"
      ],
      "execution_count": 0,
      "outputs": []
    },
    {
      "metadata": {
        "id": "i1n_4GIRGHtJ",
        "colab_type": "code",
        "colab": {}
      },
      "cell_type": "code",
      "source": [
        "# the label to predict is the id of the person\n",
        "y = lfw_people.target\n",
        "target_names = lfw_people.target_names\n",
        "n_classes = target_names.shape[0]"
      ],
      "execution_count": 0,
      "outputs": []
    },
    {
      "metadata": {
        "id": "dtRjG7udGO6X",
        "colab_type": "code",
        "colab": {
          "base_uri": "https://localhost:8080/",
          "height": 87
        },
        "outputId": "911a9eab-b8aa-4f0a-9d91-a8f057c49476"
      },
      "cell_type": "code",
      "source": [
        "print(\"Total dataset size:\")\n",
        "print(\"n_samples: %d\" % n_samples)\n",
        "print(\"n_features: %d\" % n_features)\n",
        "print(\"n_classes: %d\" % n_classes)"
      ],
      "execution_count": 19,
      "outputs": [
        {
          "output_type": "stream",
          "text": [
            "Total dataset size:\n",
            "n_samples: 1288\n",
            "n_features: 1850\n",
            "n_classes: 7\n"
          ],
          "name": "stdout"
        }
      ]
    },
    {
      "metadata": {
        "id": "aqgLXvQfG8Mm",
        "colab_type": "text"
      },
      "cell_type": "markdown",
      "source": [
        "#### #1 Split into a training and testing set"
      ]
    },
    {
      "metadata": {
        "id": "zdr4cl-LGctX",
        "colab_type": "code",
        "colab": {}
      },
      "cell_type": "code",
      "source": [
        "# Split into a training and testing set\n",
        "X_train, X_test, y_train, y_test = train_test_split(X, y, test_size=0.25, random_state=42)"
      ],
      "execution_count": 0,
      "outputs": []
    },
    {
      "metadata": {
        "id": "h6QJBcMAGw36",
        "colab_type": "text"
      },
      "cell_type": "markdown",
      "source": [
        "#### #2 Compute a PCA (eigenfaces) on the face dataset (treated as unlabeled dataset)\n",
        "\n",
        "* unsupervised feature extraction / dimensionality reduction"
      ]
    },
    {
      "metadata": {
        "id": "pySORKHnGmvY",
        "colab_type": "code",
        "colab": {}
      },
      "cell_type": "code",
      "source": [
        "# the original dimensionality is over 1800\n",
        "n_components = 150"
      ],
      "execution_count": 0,
      "outputs": []
    },
    {
      "metadata": {
        "id": "7HhB5WnhHAbf",
        "colab_type": "code",
        "colab": {
          "base_uri": "https://localhost:8080/",
          "height": 52
        },
        "outputId": "f6406177-176a-476e-839e-4709b1541d68"
      },
      "cell_type": "code",
      "source": [
        "print(\"Extracting the top %d eigenfaces from %d faces\" % (n_components, X_train.shape[0]))\n",
        "t0 = time()\n",
        "# create the PCA\n",
        "pca = RandomizedPCA(n_components=n_components, whiten=True).fit(X_train)\n",
        "print(\"done in %0.3fs\" % (time() - t0))"
      ],
      "execution_count": 22,
      "outputs": [
        {
          "output_type": "stream",
          "text": [
            "Extracting the top 150 eigenfaces from 966 faces\n",
            "done in 0.447s\n"
          ],
          "name": "stdout"
        }
      ]
    },
    {
      "metadata": {
        "id": "JMraPXwNHLRd",
        "colab_type": "code",
        "colab": {}
      },
      "cell_type": "code",
      "source": [
        "# principle components of the face data\n",
        "# reshape the data so they can look like pictures\n",
        "eigenfaces = pca.components_.reshape((n_components, h, w))"
      ],
      "execution_count": 0,
      "outputs": []
    },
    {
      "metadata": {
        "id": "a7jZxTkHHQTp",
        "colab_type": "code",
        "colab": {
          "base_uri": "https://localhost:8080/",
          "height": 52
        },
        "outputId": "33ca31b9-94e8-46dc-e7db-8a2c162c027f"
      },
      "cell_type": "code",
      "source": [
        "print(\"Projecting the input data on the eigenfaces orthonormal basis\")\n",
        "t0 = time()\n",
        "# transform the data into the principle component representation\n",
        "X_train_pca = pca.transform(X_train)\n",
        "X_test_pca = pca.transform(X_test)\n",
        "print(\"done in %0.3fs\" % (time() - t0))"
      ],
      "execution_count": 24,
      "outputs": [
        {
          "output_type": "stream",
          "text": [
            "Projecting the input data on the eigenfaces orthonormal basis\n",
            "done in 0.039s\n"
          ],
          "name": "stdout"
        }
      ]
    },
    {
      "metadata": {
        "id": "rRlMNv_EHdyE",
        "colab_type": "text"
      },
      "cell_type": "markdown",
      "source": [
        "#### #3 Train a SVM classification model"
      ]
    },
    {
      "metadata": {
        "id": "axzUzbwkHWUI",
        "colab_type": "code",
        "colab": {
          "base_uri": "https://localhost:8080/",
          "height": 195
        },
        "outputId": "d5762ed6-42e9-4a2e-d346-551dc2b5d364"
      },
      "cell_type": "code",
      "source": [
        "print(\"Fitting the classifier to the training set\")\n",
        "t0 = time()\n",
        "param_grids = {\n",
        "    'C': [1e3, 5e3, 1e4, 5e4, 1e5],\n",
        "    'gamma':  [0.0001, 0.0005, 0.001, 0.005, 0.01, 0.1]\n",
        "}\n",
        "# create the classifier\n",
        "clf = GridSearchCV(SVC(kernel='rbf', class_weight='balanced'), param_grids)\n",
        "# fit the data\n",
        "clf = clf.fit(X_train_pca, y_train)\n",
        "\n",
        "print('done in %0.3fs' % (time() - t0))\n",
        "print('Best estimator fount in grid search:')\n",
        "print(clf.best_estimator_)"
      ],
      "execution_count": 27,
      "outputs": [
        {
          "output_type": "stream",
          "text": [
            "Fitting the classifier to the training set\n"
          ],
          "name": "stdout"
        },
        {
          "output_type": "stream",
          "text": [
            "/usr/local/lib/python3.6/dist-packages/sklearn/model_selection/_split.py:2053: FutureWarning: You should specify a value for 'cv' instead of relying on the default value. The default value will change from 3 to 5 in version 0.22.\n",
            "  warnings.warn(CV_WARNING, FutureWarning)\n"
          ],
          "name": "stderr"
        },
        {
          "output_type": "stream",
          "text": [
            "done in 24.503s\n",
            "Best estimator fount in grid search:\n",
            "SVC(C=1000.0, cache_size=200, class_weight='balanced', coef0=0.0,\n",
            "  decision_function_shape='ovr', degree=3, gamma=0.001, kernel='rbf',\n",
            "  max_iter=-1, probability=False, random_state=None, shrinking=True,\n",
            "  tol=0.001, verbose=False)\n"
          ],
          "name": "stdout"
        }
      ]
    },
    {
      "metadata": {
        "id": "i247CEdvIqfa",
        "colab_type": "text"
      },
      "cell_type": "markdown",
      "source": [
        "#### #4 Quantitative evaluation of the model quality on the test set"
      ]
    },
    {
      "metadata": {
        "id": "dcRHOyKFIj5a",
        "colab_type": "code",
        "colab": {
          "base_uri": "https://localhost:8080/",
          "height": 52
        },
        "outputId": "0f3f03e0-05e4-414d-868b-58987b98c760"
      },
      "cell_type": "code",
      "source": [
        "print(\"Predicting the people names on the testing set\")\n",
        "t0 = time()\n",
        "y_pred = clf.predict(X_test_pca)\n",
        "print('done in %0.3fs' % (time() - t0))"
      ],
      "execution_count": 28,
      "outputs": [
        {
          "output_type": "stream",
          "text": [
            "Predicting the people names on the testing set\n",
            "done in 0.057s\n"
          ],
          "name": "stdout"
        }
      ]
    },
    {
      "metadata": {
        "id": "9ju1HxGpJBaV",
        "colab_type": "code",
        "colab": {
          "base_uri": "https://localhost:8080/",
          "height": 386
        },
        "outputId": "c7fce6c0-1afd-4007-cf25-38ae8d90de3e"
      },
      "cell_type": "code",
      "source": [
        "print(classification_report(y_test, y_pred, target_names=target_names))\n",
        "print(confusion_matrix(y_test, y_pred, labels=range(n_classes)))"
      ],
      "execution_count": 29,
      "outputs": [
        {
          "output_type": "stream",
          "text": [
            "                   precision    recall  f1-score   support\n",
            "\n",
            "     Ariel Sharon       0.56      0.69      0.62        13\n",
            "     Colin Powell       0.74      0.87      0.80        60\n",
            "  Donald Rumsfeld       0.76      0.81      0.79        27\n",
            "    George W Bush       0.93      0.87      0.90       146\n",
            "Gerhard Schroeder       0.76      0.76      0.76        25\n",
            "      Hugo Chavez       0.73      0.53      0.62        15\n",
            "       Tony Blair       0.88      0.83      0.86        36\n",
            "\n",
            "        micro avg       0.83      0.83      0.83       322\n",
            "        macro avg       0.77      0.77      0.76       322\n",
            "     weighted avg       0.84      0.83      0.83       322\n",
            "\n",
            "[[  9   0   3   1   0   0   0]\n",
            " [  2  52   1   4   0   1   0]\n",
            " [  4   0  22   1   0   0   0]\n",
            " [  1  11   2 127   3   1   1]\n",
            " [  0   2   0   1  19   1   2]\n",
            " [  0   3   0   1   2   8   1]\n",
            " [  0   2   1   2   1   0  30]]\n"
          ],
          "name": "stdout"
        }
      ]
    },
    {
      "metadata": {
        "id": "KpSd5y0lJZb6",
        "colab_type": "text"
      },
      "cell_type": "markdown",
      "source": [
        "#### #5 Qualitative evaluation of the predictions using matplotlib"
      ]
    },
    {
      "metadata": {
        "id": "lZmQc3XVJTta",
        "colab_type": "code",
        "colab": {}
      },
      "cell_type": "code",
      "source": [
        "def plot_gallery(images, titles, h, w, n_row=3, n_col=4):\n",
        "    \"\"\"Helper function to plot a gallery of portraits\"\"\"\n",
        "    pl.figure(figsize=(1.8 * n_col, 2.4 * n_row))\n",
        "    pl.subplots_adjust(bottom=0, left=.01, right=.99, top=.90, hspace=.35)\n",
        "    for i in range(n_row * n_col):\n",
        "        pl.subplot(n_row, n_col, i + 1)\n",
        "        pl.imshow(images[i].reshape((h, w)), cmap=pl.cm.gray)\n",
        "        pl.title(titles[i], size=12)\n",
        "        pl.xticks(())\n",
        "        pl.yticks(())"
      ],
      "execution_count": 0,
      "outputs": []
    },
    {
      "metadata": {
        "id": "rOjG3VnpJzsb",
        "colab_type": "text"
      },
      "cell_type": "markdown",
      "source": [
        "#### #6 Plot the result of the prediction on a portion of the test set"
      ]
    },
    {
      "metadata": {
        "id": "WDdPeFadJero",
        "colab_type": "code",
        "colab": {}
      },
      "cell_type": "code",
      "source": [
        "def title(y_pred, y_test, target_names, i):\n",
        "    pred_name = target_names[y_pred[i]].rsplit(' ', 1)[-1]\n",
        "    true_name = target_names[y_test[i]].rsplit(' ', 1)[-1]\n",
        "    return 'predicted: %s\\ntrue:      %s' % (pred_name, true_name)"
      ],
      "execution_count": 0,
      "outputs": []
    },
    {
      "metadata": {
        "id": "2enKx-vWJhtq",
        "colab_type": "code",
        "colab": {}
      },
      "cell_type": "code",
      "source": [
        "prediction_titles = [title(y_pred, y_test, target_names, i)\n",
        "                         for i in range(y_pred.shape[0])]"
      ],
      "execution_count": 0,
      "outputs": []
    },
    {
      "metadata": {
        "id": "gkO8r5DJJjX5",
        "colab_type": "code",
        "colab": {
          "base_uri": "https://localhost:8080/",
          "height": 526
        },
        "outputId": "4e9ca108-6fa3-42b2-a2bf-e77141cfb298"
      },
      "cell_type": "code",
      "source": [
        "plot_gallery(X_test, prediction_titles, h, w)"
      ],
      "execution_count": 33,
      "outputs": [
        {
          "output_type": "display_data",
          "data": {
            "image/png": "[encoded data removed]",
            "text/plain": [
              "<Figure size 518.4x518.4 with 12 Axes>"
            ]
          },
          "metadata": {
            "tags": []
          }
        }
      ]
    },
    {
      "metadata": {
        "id": "3nQ7ZdxBJt8i",
        "colab_type": "text"
      },
      "cell_type": "markdown",
      "source": [
        "#### #7 Plot the gallery of the most significative eigenfaces"
      ]
    },
    {
      "metadata": {
        "id": "P41xTKcEJk7J",
        "colab_type": "code",
        "colab": {
          "base_uri": "https://localhost:8080/",
          "height": 512
        },
        "outputId": "a4e49244-ee7d-4768-e0a5-87231bd416f1"
      },
      "cell_type": "code",
      "source": [
        "eigenface_titles = [\"eigenface %d\" % i for i in range(eigenfaces.shape[0])]\n",
        "plot_gallery(eigenfaces, eigenface_titles, h, w)\n",
        "\n",
        "pl.show()"
      ],
      "execution_count": 34,
      "outputs": [
        {
          "output_type": "display_data",
          "data": {
            "image/png": "[encoded data removed]",
            "text/plain": [
              "<Figure size 518.4x518.4 with 12 Axes>"
            ]
          },
          "metadata": {
            "tags": []
          }
        }
      ]
    },
    {
      "metadata": {
        "id": "O-cpbPEHSTUf",
        "colab_type": "text"
      },
      "cell_type": "markdown",
      "source": [
        "#### #8 How much of the variance is explained by the first principal component? The second?"
      ]
    },
    {
      "metadata": {
        "id": "vCORjqiuJq83",
        "colab_type": "code",
        "colab": {
          "base_uri": "https://localhost:8080/",
          "height": 34
        },
        "outputId": "ff06a4c3-a915-4e1c-bbe6-ed1933760256"
      },
      "cell_type": "code",
      "source": [
        "pca.explained_variance_ratio_[0]"
      ],
      "execution_count": 40,
      "outputs": [
        {
          "output_type": "execute_result",
          "data": {
            "text/plain": [
              "0.19346519"
            ]
          },
          "metadata": {
            "tags": []
          },
          "execution_count": 40
        }
      ]
    },
    {
      "metadata": {
        "id": "JSl9cswZYAW6",
        "colab_type": "code",
        "colab": {
          "base_uri": "https://localhost:8080/",
          "height": 34
        },
        "outputId": "e87c1b7f-698a-499b-d1f1-99704f4c75db"
      },
      "cell_type": "code",
      "source": [
        "pca.explained_variance_ratio_[1]"
      ],
      "execution_count": 41,
      "outputs": [
        {
          "output_type": "execute_result",
          "data": {
            "text/plain": [
              "0.1511682"
            ]
          },
          "metadata": {
            "tags": []
          },
          "execution_count": 41
        }
      ]
    },
    {
      "metadata": {
        "id": "82qDgIwDYhhV",
        "colab_type": "text"
      },
      "cell_type": "markdown",
      "source": [
        "#### #9 How many PCs to use? As you add more principal components as features for training your classifier, do you expect it to get better or worse performance?\n",
        "\n",
        "Now you'll experiment with keeping different numbers of principal components. In a multiclass classification problem like this one (more than 2 labels to apply), accuracy is a less-intuitive metric than in the 2-class case. Instead, a popular metric is the F1 score.\n",
        "\n",
        "While ideally, adding components should provide us additional signal to improve our performance, it is possible that we end up at a complexity where we overfit."
      ]
    },
    {
      "metadata": {
        "id": "meKnLFBvYFYJ",
        "colab_type": "code",
        "colab": {
          "base_uri": "https://localhost:8080/",
          "height": 3838
        },
        "outputId": "ed9cb677-d957-4699-885d-a848be5f5087"
      },
      "cell_type": "code",
      "source": [
        "# the original dimensionality is over 1800\n",
        "#n_components = 150\n",
        "\n",
        "for n_components in [10, 15, 25, 50, 100, 250]:\n",
        "    print(\"Extracting the top %d eigenfaces from %d faces\" % (n_components, X_train.shape[0]))\n",
        "    t0 = time()\n",
        "    # create the PCA\n",
        "    pca = RandomizedPCA(n_components=n_components, whiten=True).fit(X_train)\n",
        "    print(\"done in %0.3fs\" % (time() - t0))\n",
        "\n",
        "    # principle components of the face data\n",
        "    # reshape the data so they can look like pictures\n",
        "    eigenfaces = pca.components_.reshape((n_components, h, w))\n",
        "\n",
        "    print(\"Projecting the input data on the eigenfaces orthonormal basis\")\n",
        "    t0 = time()\n",
        "    # transform the data into the principle component representation\n",
        "    X_train_pca = pca.transform(X_train)\n",
        "    X_test_pca = pca.transform(X_test)\n",
        "    print(\"done in %0.3fs\" % (time() - t0))\n",
        "\n",
        "    print(\"Fitting the classifier to the training set\")\n",
        "    t0 = time()\n",
        "    param_grids = {\n",
        "        'C': [1e3, 5e3, 1e4, 5e4, 1e5],\n",
        "        'gamma':  [0.0001, 0.0005, 0.001, 0.005, 0.01, 0.1]\n",
        "    }\n",
        "    # create the classifier\n",
        "    clf = GridSearchCV(SVC(kernel='rbf', class_weight='balanced'), param_grids)\n",
        "    # fit the data\n",
        "    clf = clf.fit(X_train_pca, y_train)\n",
        "\n",
        "    print('done in %0.3fs' % (time() - t0))\n",
        "    print('Best estimator fount in grid search:')\n",
        "    print(clf.best_estimator_)\n",
        "\n",
        "    print(\"Predicting the people names on the testing set\")\n",
        "    t0 = time()\n",
        "    y_pred = clf.predict(X_test_pca)\n",
        "    print('done in %0.3fs' % (time() - t0))\n",
        "\n",
        "    print(classification_report(y_test, y_pred, target_names=target_names))\n",
        "    print(confusion_matrix(y_test, y_pred, labels=range(n_classes)))"
      ],
      "execution_count": 43,
      "outputs": [
        {
          "output_type": "stream",
          "text": [
            "Extracting the top 10 eigenfaces from 966 faces\n",
            "done in 0.176s\n",
            "Projecting the input data on the eigenfaces orthonormal basis\n",
            "done in 0.019s\n",
            "Fitting the classifier to the training set\n"
          ],
          "name": "stdout"
        },
        {
          "output_type": "stream",
          "text": [
            "/usr/local/lib/python3.6/dist-packages/sklearn/model_selection/_split.py:2053: FutureWarning: You should specify a value for 'cv' instead of relying on the default value. The default value will change from 3 to 5 in version 0.22.\n",
            "  warnings.warn(CV_WARNING, FutureWarning)\n"
          ],
          "name": "stderr"
        },
        {
          "output_type": "stream",
          "text": [
            "done in 47.318s\n",
            "Best estimator fount in grid search:\n",
            "SVC(C=1000.0, cache_size=200, class_weight='balanced', coef0=0.0,\n",
            "  decision_function_shape='ovr', degree=3, gamma=0.1, kernel='rbf',\n",
            "  max_iter=-1, probability=False, random_state=None, shrinking=True,\n",
            "  tol=0.001, verbose=False)\n",
            "Predicting the people names on the testing set\n",
            "done in 0.011s\n",
            "                   precision    recall  f1-score   support\n",
            "\n",
            "     Ariel Sharon       0.10      0.15      0.12        13\n",
            "     Colin Powell       0.43      0.53      0.48        60\n",
            "  Donald Rumsfeld       0.26      0.33      0.30        27\n",
            "    George W Bush       0.66      0.58      0.62       146\n",
            "Gerhard Schroeder       0.17      0.20      0.18        25\n",
            "      Hugo Chavez       0.25      0.13      0.17        15\n",
            "       Tony Blair       0.50      0.39      0.44        36\n",
            "\n",
            "        micro avg       0.46      0.46      0.46       322\n",
            "        macro avg       0.34      0.33      0.33       322\n",
            "     weighted avg       0.49      0.46      0.47       322\n",
            "\n",
            "[[ 2  6  1  3  1  0  0]\n",
            " [ 8 32  2 10  4  1  3]\n",
            " [ 2  9  9  5  1  0  1]\n",
            " [ 7 21 10 84 14  3  7]\n",
            " [ 0  1  4 10  5  2  3]\n",
            " [ 1  2  2  8  0  2  0]\n",
            " [ 1  3  6  7  5  0 14]]\n",
            "Extracting the top 15 eigenfaces from 966 faces\n",
            "done in 0.163s\n",
            "Projecting the input data on the eigenfaces orthonormal basis\n",
            "done in 0.015s\n",
            "Fitting the classifier to the training set\n"
          ],
          "name": "stdout"
        },
        {
          "output_type": "stream",
          "text": [
            "/usr/local/lib/python3.6/dist-packages/sklearn/model_selection/_split.py:2053: FutureWarning: You should specify a value for 'cv' instead of relying on the default value. The default value will change from 3 to 5 in version 0.22.\n",
            "  warnings.warn(CV_WARNING, FutureWarning)\n"
          ],
          "name": "stderr"
        },
        {
          "output_type": "stream",
          "text": [
            "done in 15.994s\n",
            "Best estimator fount in grid search:\n",
            "SVC(C=50000.0, cache_size=200, class_weight='balanced', coef0=0.0,\n",
            "  decision_function_shape='ovr', degree=3, gamma=0.0005, kernel='rbf',\n",
            "  max_iter=-1, probability=False, random_state=None, shrinking=True,\n",
            "  tol=0.001, verbose=False)\n",
            "Predicting the people names on the testing set\n",
            "done in 0.010s\n",
            "                   precision    recall  f1-score   support\n",
            "\n",
            "     Ariel Sharon       0.26      0.46      0.33        13\n",
            "     Colin Powell       0.65      0.73      0.69        60\n",
            "  Donald Rumsfeld       0.46      0.63      0.53        27\n",
            "    George W Bush       0.83      0.68      0.75       146\n",
            "Gerhard Schroeder       0.41      0.48      0.44        25\n",
            "      Hugo Chavez       0.60      0.40      0.48        15\n",
            "       Tony Blair       0.50      0.50      0.50        36\n",
            "\n",
            "        micro avg       0.63      0.63      0.63       322\n",
            "        macro avg       0.53      0.55      0.53       322\n",
            "     weighted avg       0.66      0.63      0.64       322\n",
            "\n",
            "[[ 6  5  1  1  0  0  0]\n",
            " [ 8 44  3  3  2  0  0]\n",
            " [ 3  1 17  6  0  0  0]\n",
            " [ 5 13 11 99  7  3  8]\n",
            " [ 0  0  1  5 12  1  6]\n",
            " [ 0  2  0  1  2  6  4]\n",
            " [ 1  3  4  4  6  0 18]]\n",
            "Extracting the top 25 eigenfaces from 966 faces\n",
            "done in 0.162s\n",
            "Projecting the input data on the eigenfaces orthonormal basis\n",
            "done in 0.016s\n",
            "Fitting the classifier to the training set\n"
          ],
          "name": "stdout"
        },
        {
          "output_type": "stream",
          "text": [
            "/usr/local/lib/python3.6/dist-packages/sklearn/model_selection/_split.py:2053: FutureWarning: You should specify a value for 'cv' instead of relying on the default value. The default value will change from 3 to 5 in version 0.22.\n",
            "  warnings.warn(CV_WARNING, FutureWarning)\n"
          ],
          "name": "stderr"
        },
        {
          "output_type": "stream",
          "text": [
            "done in 8.679s\n",
            "Best estimator fount in grid search:\n",
            "SVC(C=1000.0, cache_size=200, class_weight='balanced', coef0=0.0,\n",
            "  decision_function_shape='ovr', degree=3, gamma=0.01, kernel='rbf',\n",
            "  max_iter=-1, probability=False, random_state=None, shrinking=True,\n",
            "  tol=0.001, verbose=False)\n",
            "Predicting the people names on the testing set\n",
            "done in 0.012s\n",
            "                   precision    recall  f1-score   support\n",
            "\n",
            "     Ariel Sharon       0.60      0.69      0.64        13\n",
            "     Colin Powell       0.73      0.87      0.79        60\n",
            "  Donald Rumsfeld       0.50      0.56      0.53        27\n",
            "    George W Bush       0.86      0.82      0.84       146\n",
            "Gerhard Schroeder       0.58      0.56      0.57        25\n",
            "      Hugo Chavez       0.82      0.60      0.69        15\n",
            "       Tony Blair       0.69      0.61      0.65        36\n",
            "\n",
            "        micro avg       0.75      0.75      0.75       322\n",
            "        macro avg       0.68      0.67      0.67       322\n",
            "     weighted avg       0.75      0.75      0.75       322\n",
            "\n",
            "[[  9   2   1   1   0   0   0]\n",
            " [  2  52   3   2   1   0   0]\n",
            " [  2   4  15   5   1   0   0]\n",
            " [  2   7   9 120   5   0   3]\n",
            " [  0   0   1   5  14   0   5]\n",
            " [  0   3   0   1   0   9   2]\n",
            " [  0   3   1   5   3   2  22]]\n",
            "Extracting the top 50 eigenfaces from 966 faces\n",
            "done in 0.253s\n",
            "Projecting the input data on the eigenfaces orthonormal basis\n",
            "done in 0.017s\n",
            "Fitting the classifier to the training set\n"
          ],
          "name": "stdout"
        },
        {
          "output_type": "stream",
          "text": [
            "/usr/local/lib/python3.6/dist-packages/sklearn/model_selection/_split.py:2053: FutureWarning: You should specify a value for 'cv' instead of relying on the default value. The default value will change from 3 to 5 in version 0.22.\n",
            "  warnings.warn(CV_WARNING, FutureWarning)\n"
          ],
          "name": "stderr"
        },
        {
          "output_type": "stream",
          "text": [
            "done in 8.793s\n",
            "Best estimator fount in grid search:\n",
            "SVC(C=1000.0, cache_size=200, class_weight='balanced', coef0=0.0,\n",
            "  decision_function_shape='ovr', degree=3, gamma=0.01, kernel='rbf',\n",
            "  max_iter=-1, probability=False, random_state=None, shrinking=True,\n",
            "  tol=0.001, verbose=False)\n",
            "Predicting the people names on the testing set\n",
            "done in 0.021s\n",
            "                   precision    recall  f1-score   support\n",
            "\n",
            "     Ariel Sharon       0.67      0.77      0.71        13\n",
            "     Colin Powell       0.83      0.90      0.86        60\n",
            "  Donald Rumsfeld       0.70      0.59      0.64        27\n",
            "    George W Bush       0.86      0.90      0.88       146\n",
            "Gerhard Schroeder       0.75      0.72      0.73        25\n",
            "      Hugo Chavez       0.77      0.67      0.71        15\n",
            "       Tony Blair       0.82      0.64      0.72        36\n",
            "\n",
            "        micro avg       0.82      0.82      0.82       322\n",
            "        macro avg       0.77      0.74      0.75       322\n",
            "     weighted avg       0.81      0.82      0.81       322\n",
            "\n",
            "[[ 10   1   1   1   0   0   0]\n",
            " [  0  54   1   4   0   0   1]\n",
            " [  3   2  16   5   1   0   0]\n",
            " [  0   4   4 132   1   2   3]\n",
            " [  0   0   1   5  18   1   0]\n",
            " [  0   2   0   1   1  10   1]\n",
            " [  2   2   0   6   3   0  23]]\n",
            "Extracting the top 100 eigenfaces from 966 faces\n",
            "done in 0.294s\n",
            "Projecting the input data on the eigenfaces orthonormal basis\n",
            "done in 0.029s\n",
            "Fitting the classifier to the training set\n"
          ],
          "name": "stdout"
        },
        {
          "output_type": "stream",
          "text": [
            "/usr/local/lib/python3.6/dist-packages/sklearn/model_selection/_split.py:2053: FutureWarning: You should specify a value for 'cv' instead of relying on the default value. The default value will change from 3 to 5 in version 0.22.\n",
            "  warnings.warn(CV_WARNING, FutureWarning)\n"
          ],
          "name": "stderr"
        },
        {
          "output_type": "stream",
          "text": [
            "done in 16.748s\n",
            "Best estimator fount in grid search:\n",
            "SVC(C=1000.0, cache_size=200, class_weight='balanced', coef0=0.0,\n",
            "  decision_function_shape='ovr', degree=3, gamma=0.005, kernel='rbf',\n",
            "  max_iter=-1, probability=False, random_state=None, shrinking=True,\n",
            "  tol=0.001, verbose=False)\n",
            "Predicting the people names on the testing set\n",
            "done in 0.040s\n",
            "                   precision    recall  f1-score   support\n",
            "\n",
            "     Ariel Sharon       0.69      0.69      0.69        13\n",
            "     Colin Powell       0.83      0.90      0.86        60\n",
            "  Donald Rumsfeld       0.81      0.63      0.71        27\n",
            "    George W Bush       0.89      0.97      0.92       146\n",
            "Gerhard Schroeder       0.86      0.76      0.81        25\n",
            "      Hugo Chavez       0.91      0.67      0.77        15\n",
            "       Tony Blair       0.87      0.75      0.81        36\n",
            "\n",
            "        micro avg       0.86      0.86      0.86       322\n",
            "        macro avg       0.84      0.77      0.80       322\n",
            "     weighted avg       0.86      0.86      0.86       322\n",
            "\n",
            "[[  9   1   2   1   0   0   0]\n",
            " [  1  54   0   4   0   1   0]\n",
            " [  2   2  17   6   0   0   0]\n",
            " [  0   4   1 141   0   0   0]\n",
            " [  0   1   0   2  19   0   3]\n",
            " [  0   3   0   0   1  10   1]\n",
            " [  1   0   1   5   2   0  27]]\n",
            "Extracting the top 250 eigenfaces from 966 faces\n",
            "done in 0.576s\n",
            "Projecting the input data on the eigenfaces orthonormal basis\n",
            "done in 0.054s\n",
            "Fitting the classifier to the training set\n"
          ],
          "name": "stdout"
        },
        {
          "output_type": "stream",
          "text": [
            "/usr/local/lib/python3.6/dist-packages/sklearn/model_selection/_split.py:2053: FutureWarning: You should specify a value for 'cv' instead of relying on the default value. The default value will change from 3 to 5 in version 0.22.\n",
            "  warnings.warn(CV_WARNING, FutureWarning)\n"
          ],
          "name": "stderr"
        },
        {
          "output_type": "stream",
          "text": [
            "done in 42.896s\n",
            "Best estimator fount in grid search:\n",
            "SVC(C=1000.0, cache_size=200, class_weight='balanced', coef0=0.0,\n",
            "  decision_function_shape='ovr', degree=3, gamma=0.001, kernel='rbf',\n",
            "  max_iter=-1, probability=False, random_state=None, shrinking=True,\n",
            "  tol=0.001, verbose=False)\n",
            "Predicting the people names on the testing set\n",
            "done in 0.095s\n",
            "                   precision    recall  f1-score   support\n",
            "\n",
            "     Ariel Sharon       0.56      0.77      0.65        13\n",
            "     Colin Powell       0.74      0.90      0.81        60\n",
            "  Donald Rumsfeld       0.82      0.67      0.73        27\n",
            "    George W Bush       0.92      0.89      0.90       146\n",
            "Gerhard Schroeder       0.71      0.68      0.69        25\n",
            "      Hugo Chavez       0.70      0.47      0.56        15\n",
            "       Tony Blair       0.85      0.78      0.81        36\n",
            "\n",
            "        micro avg       0.82      0.82      0.82       322\n",
            "        macro avg       0.76      0.74      0.74       322\n",
            "     weighted avg       0.83      0.82      0.82       322\n",
            "\n",
            "[[ 10   0   2   0   1   0   0]\n",
            " [  1  54   2   2   0   1   0]\n",
            " [  3   2  18   2   1   0   1]\n",
            " [  3   8   0 130   2   1   2]\n",
            " [  0   2   0   4  17   1   1]\n",
            " [  0   4   0   1   2   7   1]\n",
            " [  1   3   0   3   1   0  28]]\n"
          ],
          "name": "stdout"
        }
      ]
    },
    {
      "metadata": {
        "id": "NCmBc6KAa4Lp",
        "colab_type": "text"
      },
      "cell_type": "markdown",
      "source": [
        "#### #10 If you see a higher F1 score, does it mean the classifier is doing better, or worse?\n",
        "\n",
        "Yes, higher means better!"
      ]
    },
    {
      "metadata": {
        "id": "afr9emQSbYeD",
        "colab_type": "text"
      },
      "cell_type": "markdown",
      "source": [
        "#### #11 Do you see any evidence of overfitting when using a large number of PCs? Does the dimensionality reduction of PCA seem to be helping your performance here?\n",
        "\n",
        "Yes, the F1 score starts to drop.\n",
        "\n",
        "#### #12 Selecting a Number of Principal Components \n",
        "\n",
        "* train on different number of PCs and see how accuracy responds - cut off when it comes apparent that adding more PCs doesn't buy you more discrimination.\n",
        "\n",
        "* this can be done also in feature selection as well. You don't want to do feature selection before going into PCA. PCA is going to combine information from potentially many different input features together"
      ]
    },
    {
      "metadata": {
        "id": "gXILIiVNZn_r",
        "colab_type": "code",
        "colab": {}
      },
      "cell_type": "code",
      "source": [
        ""
      ],
      "execution_count": 0,
      "outputs": []
    }
  ]
}